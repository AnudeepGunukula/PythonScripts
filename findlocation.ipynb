{
 "cells": [
  {
   "cell_type": "code",
   "execution_count": null,
   "metadata": {},
   "outputs": [],
   "source": [
    "import socket,subprocess\n",
    "from geolite2 import geolite2\n",
    "import re\n",
    "my_ip=\"192.168.55.102\"\n",
    "print(my_ip)\n",
    "reader=geolite2.reader()\n",
    "\n",
    "def get_iploc(ip):\n",
    "    print(ip)\n",
    "    try:\n",
    "      location=reader.get(ip)\n",
    "    except:pass\n",
    "    try:\n",
    "        country = location[\"country\"][\"names\"][\"en\"]\n",
    "    except:\n",
    "        country = \"Unknown\"\n",
    "\n",
    "    try:\n",
    "        subdivision = location[\"subdivisions\"][0][\"names\"][\"en\"]\n",
    "    except:\n",
    "        subdivision = \"Unknown\"    \n",
    "\n",
    "    try:\n",
    "        city = location[\"city\"][\"names\"][\"en\"]\n",
    "    except:\n",
    "        city = \"Unknown\"\n",
    "    \n",
    "    print(country, subdivision, city)\n",
    "\n",
    "print(\" 1 for tcp and 2 for udp only\")\n",
    "c=input(\"enter what option u want:\")\n",
    " \n",
    "\n",
    "cmd=r\"C:\\Program Files\\Wireshark\\tshark.exe -i 4\"\n",
    "process=subprocess.Popen(cmd,stdout=subprocess.PIPE,stderr=subprocess.STDOUT)\n",
    "for line in iter(process.stdout.readline,b\"\"):\n",
    "      \n",
    "      columns = str(line).split(\" \")\n",
    "      \n",
    "      if c=='1':\n",
    "              if 'TCP' in columns:\n",
    "                 for i in columns:\n",
    "                       l=i.split(\".\")\n",
    "                       if len(l)==4 and i!=my_ip :\n",
    "                             get_iploc(i)\n",
    "      if c== '2':\n",
    "             if 'UDP'in columns:\n",
    "                 for i in columns:\n",
    "                       l=i.split(\".\")\n",
    "                       if len(l)==4 and i!=my_ip :\n",
    "                             get_iploc(i)\n",
    "      \n",
    "      "
   ]
  }
 ],
 "metadata": {
  "kernelspec": {
   "display_name": "Python 3",
   "language": "python",
   "name": "python3"
  },
  "language_info": {
   "codemirror_mode": {
    "name": "ipython",
    "version": 3
   },
   "file_extension": ".py",
   "mimetype": "text/x-python",
   "name": "python",
   "nbconvert_exporter": "python",
   "pygments_lexer": "ipython3",
   "version": "3.7.6"
  }
 },
 "nbformat": 4,
 "nbformat_minor": 4
}
