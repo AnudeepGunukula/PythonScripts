{
 "cells": [
  {
   "cell_type": "code",
   "execution_count": null,
   "metadata": {},
   "outputs": [],
   "source": [
    "from selenium import webdriver\n",
    "from selenium.webdriver.common.action_chains import ActionChains\n",
    "from selenium.webdriver.common.keys import Keys\n",
    "import time\n",
    "with open(\"C:\\\\Users\\\\anude\\\\Desktop\\\\logincredentials.txt\") as f:\n",
    "    fu = f.readlines()\n",
    "for i in fu:\n",
    "    cred = i.split(\":\")\n",
    "    driver = webdriver.Chrome(\n",
    "        \"D:\\\\c_downloads\\\\chromedriver_win32\\\\chromedriver.exe\")\n",
    "    action = ActionChains(driver)\n",
    "    driver.maximize_window()\n",
    "    driver.get(\n",
    "        \"https://www.hotstar.com/in/sports/badminton/round-of-32-womens-doubles/1540002745\")\n",
    "    time.sleep(5)\n",
    "    # driver.find_element_by_xpath(\".//*[@id='app']/div[2]/div/div[1]/div[1]/div/div[2]/div/div[5]/div\").click()\n",
    "    # time.sleep(2)\n",
    "    driver.find_element_by_xpath(\n",
    "        \".//*[@id='app']/div[2]/div/div[1]/div[5]/div/div/div[1]/div/div[2]/div/div[1]/div/div/button\").click()\n",
    "    userbox = driver.find_element_by_xpath(\".//*[@id='emailID']\")\n",
    "    userbox.send_keys(cred[0])\n",
    "    driver.find_element_by_xpath(\n",
    "        \".//*[@id='app']/div[2]/div/div[1]/div[5]/div/div/div[1]/div/div[2]/div/div[1]/div/div/div[3]/button\").click()\n",
    "    time.sleep(3)\n",
    "    passbox = driver.find_element_by_xpath(\".//*[@id='password']\")\n",
    "    passbox.send_keys(cred[1])\n",
    "    past = time.time()\n",
    "    timediff = 1\n",
    "    time.sleep(5)\n",
    "    ActionChains(driver).key_down(Keys.CONTROL).send_keys(\n",
    "        'f').key_up(Keys.CONTROL).perform()\n",
    "    while timediff <= 60:\n",
    "        present = time.time()\n",
    "        timediff = present-past\n",
    "    driver.close()\n"
   ]
  }
 ],
 "metadata": {
  "kernelspec": {
   "display_name": "Python 3",
   "language": "python",
   "name": "python3"
  },
  "language_info": {
   "codemirror_mode": {
    "name": "ipython",
    "version": 3
   },
   "file_extension": ".py",
   "mimetype": "text/x-python",
   "name": "python",
   "nbconvert_exporter": "python",
   "pygments_lexer": "ipython3",
   "version": "3.7.6"
  }
 },
 "nbformat": 4,
 "nbformat_minor": 4
}
