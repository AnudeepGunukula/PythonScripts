{
 "cells": [
  {
   "cell_type": "code",
   "execution_count": null,
   "metadata": {},
   "outputs": [],
   "source": [
    "import pandas as pd\n",
    "import pyodbc\n",
    "\n",
    "sql_conn = pyodbc.connect('DRIVER={SQL Server};SERVER=MR-ROBOT\\SQLEXPRESS;DATABASE=Netflixdb;Trusted_Connection=yes') \n",
    "query =\"select * from dbo.customer\"\n",
    "df = pd.read_sql(query, sql_conn)\n",
    "l=df.values.T.tolist()\n",
    "l\n"
   ]
  },
  {
   "cell_type": "code",
   "execution_count": null,
   "metadata": {},
   "outputs": [],
   "source": [
    "import pandas as pd\n",
    "import pyodbc\n",
    "\n",
    "df=pd.read_csv(\"C:/Users/anude/Desktop/netflix_films/netflix_titles.csv\")\n",
    "df=df.dropna(subset=df.columns,axis=0)\n",
    "df"
   ]
  },
  {
   "cell_type": "code",
   "execution_count": null,
   "metadata": {},
   "outputs": [],
   "source": [
    "sql_conn = pyodbc.connect('DRIVER={SQL Server};SERVER=MR-ROBOT\\SQLEXPRESS;DATABASE=Netflixdb;Trusted_Connection=yes') \n",
    "cursor=sql_conn.cursor()\n",
    "records=df.values.tolist()\n",
    "statement=f\"\"\"\n",
    "INSERT INTO dbo.Netflix\n",
    "values(?,?,?,?,?,?,?,?,?,?,?,?);\n",
    "\"\"\"\n",
    "count=0\n",
    "for r in records:\n",
    "        cursor.execute(statement,r)\n",
    "        sql_conn.commit()\n",
    "cursor.close()\n",
    "sql_conn.close()\n",
    "print(count)"
   ]
  },
  {
   "cell_type": "code",
   "execution_count": null,
   "metadata": {},
   "outputs": [],
   "source": [
    "\"\"\"\n",
    "cursor.execute(\"insert into dbo.Netflix(['show_id'],['type'],[title],['director'],['cast'],['country'],['date_added'],['release_year'],['rating'],['duration'],['listed_in'],['description']) values(?,?,?,?,?,?,?,?,?,?,?,?)\",\n",
    "                    row['show_id'],row['type'],row['title'],row['director'],row['cast'],row['country'],row['date_added'],['release_year'],row['rating'],row['duration'],row['listed_in'],row['description'])\n",
    "     \n",
    "\"\"\"\n",
    "\n",
    "#you can give n number of columns and data but if u get truncated exception or error means u have given less size while table creation \n",
    "#like varchar(2) where the requirement is varchar(20)\n",
    "#so alter the table and then try this it will success for any number of columns and n size of data also"
   ]
  }
 ],
 "metadata": {
  "kernelspec": {
   "display_name": "Python 3",
   "language": "python",
   "name": "python3"
  },
  "language_info": {
   "codemirror_mode": {
    "name": "ipython",
    "version": 3
   },
   "file_extension": ".py",
   "mimetype": "text/x-python",
   "name": "python",
   "nbconvert_exporter": "python",
   "pygments_lexer": "ipython3",
   "version": "3.7.6"
  }
 },
 "nbformat": 4,
 "nbformat_minor": 4
}
