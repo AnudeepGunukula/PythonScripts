{
 "cells": [
  {
   "cell_type": "markdown",
   "metadata": {},
   "source": [
    "# proxy scraper and checker with threading"
   ]
  },
  {
   "cell_type": "code",
   "execution_count": null,
   "metadata": {},
   "outputs": [],
   "source": [
    "import requests\n",
    "import threading\n",
    "\n",
    "\n",
    "def proxy_leech():\n",
    "    all_prox = []\n",
    "    http_proxies = requests.get(\n",
    "        \"https://api.proxyscrape.com:443/v2/?request=getproxies&protocol=http&timeout=10000&country=all&ssl=all&anonymity=all\")\n",
    "    http = http_proxies.text\n",
    "    all_prox.append([i.rstrip() for i in http.split(\"\\n\")])\n",
    "    socks4_proxies = requests.get(\n",
    "        \"https://api.proxyscrape.com:443/v2/?request=getproxies&protocol=socks4&timeout=10000&country=all\")\n",
    "    socks4 = socks4_proxies.text\n",
    "    all_prox.append([i.rstrip() for i in socks4.split(\"\\n\")])\n",
    "    socks5_proxies = requests.get(\n",
    "        \"https://api.proxyscrape.com:443/v2/?request=getproxies&protocol=socks5&timeout=10000&country=all\")\n",
    "    socks5 = socks5_proxies.text\n",
    "    all_prox.append([i.rstrip() for i in socks5.split(\"\\n\") if \":\" in i])\n",
    "    return all_prox\n",
    "\n",
    "\n",
    "all_proxies = proxy_leech()\n",
    "http = all_proxies[0]\n",
    "socks4 = all_proxies[1]\n",
    "socks5 = all_proxies[2]\n",
    "li = []\n",
    "\n",
    "\n",
    "def check(j):\n",
    "    pro = {\n",
    "            'http': 'socks4://'+j,\n",
    "            'https': \"socks4://\"+j}\n",
    "    print(\"testing \"+str(j))\n",
    "    r = requests.get(\"https://www.google.com\", proxies=pro)\n",
    "    if \"lang=\" in r.text:\n",
    "            print(j+\":          success\")\n",
    "            li.append(j)\n",
    "            \n",
    "\n",
    "\n",
    "tlist = []\n",
    "for i in range(10):\n",
    "    j=socks4[i]\n",
    "    try:\n",
    "        t= threading.Thread(target=check(j))\n",
    "        t.start()\n",
    "        t.join()\n",
    "    except:continue\n",
    "\n",
    "print(li)"
   ]
  }
 ],
 "metadata": {
  "kernelspec": {
   "display_name": "Python 3",
   "language": "python",
   "name": "python3"
  },
  "language_info": {
   "codemirror_mode": {
    "name": "ipython",
    "version": 3
   },
   "file_extension": ".py",
   "mimetype": "text/x-python",
   "name": "python",
   "nbconvert_exporter": "python",
   "pygments_lexer": "ipython3",
   "version": "3.7.6"
  }
 },
 "nbformat": 4,
 "nbformat_minor": 4
}
